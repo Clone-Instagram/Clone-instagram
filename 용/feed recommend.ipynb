{
 "cells": [
  {
   "cell_type": "code",
   "execution_count": 384,
   "metadata": {},
   "outputs": [],
   "source": [
    "import pandas as pd\n",
    "import numpy as np\n",
    "import pymysql\n",
    "from sklearn.metrics.pairwise import cosine_similarity\n",
    "from sklearn.metrics import mean_squared_error\n",
    "import json\n",
    "user='7777'\n",
    "\n",
    "db=pymysql.connect(\n",
    "    user='root',\n",
    "    passwd='111111',\n",
    "    host='localhost',\n",
    "    db='instagram',\n",
    "    charset='utf8'\n",
    ")\n",
    "\n",
    "cursor=db.cursor(pymysql.cursors.DictCursor)\n",
    "cursor2=db.cursor(pymysql.cursors.DictCursor)\n",
    "cursor3=db.cursor(pymysql.cursors.DictCursor)\n",
    "\n",
    "#like를 누른 Id조회\n",
    "sql=\"select user.id,post_likes.post_id from user left join post_likes on user.id=post_likes.likes_id;\"\n",
    "cursor.execute(sql)\n",
    "result=cursor.fetchall()\n",
    "post_df=pd.DataFrame(result)\n",
    "# sql2=\"select post_id,count() as count from post group by id;\"\n",
    "#각 게시물의 like수 조회\n",
    "sql2=\"select post_id,count(likes_id) as count from post_likes group by post_id;\"\n",
    "cursor2.execute(sql2)\n",
    "result2=cursor2.fetchall()\n",
    "count_df=pd.DataFrame(result2)\n",
    "\n",
    "#해당 Id가 like를 누른 post검색\n",
    "sql3=\"select distinct(post.post_id) as post_id from post join following as f on post.id=f.following_id where f.id=%s or post.id=%s;\"\n",
    "cursor3.execute(sql3,(user,user))\n",
    "result3=cursor3.fetchall()\n",
    "follow_post_id=pd.DataFrame(result3)\n",
    "follow_post_id.tail()\n",
    "# post_df=pd.merge(post_df,follow_df,on=\"id\",how=\"outer\")\n",
    "post_df=pd.merge(post_df,count_df,on=\"post_id\",how=\"outer\")"
   ]
  },
  {
   "cell_type": "code",
   "execution_count": 385,
   "metadata": {},
   "outputs": [
    {
     "name": "stdout",
     "output_type": "stream",
     "text": [
      "      id  post_id  count  check\n",
      "0   1111      3.0    3.0    3.0\n",
      "1   2222      3.0    3.0    3.0\n",
      "2   3333      3.0    3.0    3.0\n",
      "3   1111      5.0    2.0    2.0\n",
      "4   6666      5.0    2.0    2.0\n",
      "5   2222      1.0    3.0    3.0\n",
      "6   3333      1.0    3.0    3.0\n",
      "7   4444      1.0    3.0    3.0\n",
      "8   2222      2.0    3.0    3.0\n",
      "9   5555      2.0    3.0    3.0\n",
      "10  6666      2.0    3.0    3.0\n",
      "11  2222      6.0    2.0    2.0\n",
      "12  4444      6.0    2.0    2.0\n",
      "13  3333      4.0    2.0    2.0\n",
      "14  5555      4.0    2.0    2.0\n",
      "15  7777      0.0    0.0    0.0\n"
     ]
    }
   ],
   "source": [
    "post_df['check']=post_df['post_id'].notna().astype('int').replace(0,0.5)\n",
    "post_df['count']=post_df['count'].fillna(0)\n",
    "post_df['post_id']=post_df['post_id'].fillna(0)\n",
    "post_df['check']=post_df['check']*post_df['count']\n",
    "print(post_df)"
   ]
  },
  {
   "cell_type": "code",
   "execution_count": 386,
   "metadata": {
    "scrolled": true
   },
   "outputs": [
    {
     "name": "stdout",
     "output_type": "stream",
     "text": [
      "post_id  1.0  2.0  3.0  4.0  5.0  6.0\n",
      "id                                   \n",
      "1111     NaN  NaN  3.0  NaN  2.0  NaN\n",
      "2222     3.0  3.0  3.0  NaN  NaN  2.0\n",
      "3333     3.0  NaN  3.0  2.0  NaN  NaN\n",
      "4444     3.0  NaN  NaN  NaN  NaN  2.0\n",
      "5555     NaN  3.0  NaN  2.0  NaN  NaN\n",
      "6666     NaN  3.0  NaN  NaN  2.0  NaN\n",
      "7777     NaN  NaN  NaN  NaN  NaN  NaN\n"
     ]
    }
   ],
   "source": [
    "likes=post_df[['id','post_id','check']]\n",
    "likes_matrix=likes.pivot_table('check',index='id',columns='post_id')\n",
    "\n",
    "likes_matrix.drop(likes_matrix.columns[0],axis=1,inplace=True)\n",
    "print(likes_matrix)"
   ]
  },
  {
   "cell_type": "code",
   "execution_count": 387,
   "metadata": {},
   "outputs": [],
   "source": [
    "likes_matrix=likes_matrix.fillna(0)"
   ]
  },
  {
   "cell_type": "code",
   "execution_count": 388,
   "metadata": {},
   "outputs": [
    {
     "data": {
      "text/html": [
       "<div>\n",
       "<style scoped>\n",
       "    .dataframe tbody tr th:only-of-type {\n",
       "        vertical-align: middle;\n",
       "    }\n",
       "\n",
       "    .dataframe tbody tr th {\n",
       "        vertical-align: top;\n",
       "    }\n",
       "\n",
       "    .dataframe thead th {\n",
       "        text-align: right;\n",
       "    }\n",
       "</style>\n",
       "<table border=\"1\" class=\"dataframe\">\n",
       "  <thead>\n",
       "    <tr style=\"text-align: right;\">\n",
       "      <th>id</th>\n",
       "      <th>1111</th>\n",
       "      <th>2222</th>\n",
       "      <th>3333</th>\n",
       "      <th>4444</th>\n",
       "      <th>5555</th>\n",
       "      <th>6666</th>\n",
       "      <th>7777</th>\n",
       "    </tr>\n",
       "    <tr>\n",
       "      <th>post_id</th>\n",
       "      <th></th>\n",
       "      <th></th>\n",
       "      <th></th>\n",
       "      <th></th>\n",
       "      <th></th>\n",
       "      <th></th>\n",
       "      <th></th>\n",
       "    </tr>\n",
       "  </thead>\n",
       "  <tbody>\n",
       "    <tr>\n",
       "      <th>1.0</th>\n",
       "      <td>0.0</td>\n",
       "      <td>3.0</td>\n",
       "      <td>3.0</td>\n",
       "      <td>3.0</td>\n",
       "      <td>0.0</td>\n",
       "      <td>0.0</td>\n",
       "      <td>0.0</td>\n",
       "    </tr>\n",
       "    <tr>\n",
       "      <th>2.0</th>\n",
       "      <td>0.0</td>\n",
       "      <td>3.0</td>\n",
       "      <td>0.0</td>\n",
       "      <td>0.0</td>\n",
       "      <td>3.0</td>\n",
       "      <td>3.0</td>\n",
       "      <td>0.0</td>\n",
       "    </tr>\n",
       "    <tr>\n",
       "      <th>3.0</th>\n",
       "      <td>3.0</td>\n",
       "      <td>3.0</td>\n",
       "      <td>3.0</td>\n",
       "      <td>0.0</td>\n",
       "      <td>0.0</td>\n",
       "      <td>0.0</td>\n",
       "      <td>0.0</td>\n",
       "    </tr>\n",
       "    <tr>\n",
       "      <th>4.0</th>\n",
       "      <td>0.0</td>\n",
       "      <td>0.0</td>\n",
       "      <td>2.0</td>\n",
       "      <td>0.0</td>\n",
       "      <td>2.0</td>\n",
       "      <td>0.0</td>\n",
       "      <td>0.0</td>\n",
       "    </tr>\n",
       "    <tr>\n",
       "      <th>5.0</th>\n",
       "      <td>2.0</td>\n",
       "      <td>0.0</td>\n",
       "      <td>0.0</td>\n",
       "      <td>0.0</td>\n",
       "      <td>0.0</td>\n",
       "      <td>2.0</td>\n",
       "      <td>0.0</td>\n",
       "    </tr>\n",
       "  </tbody>\n",
       "</table>\n",
       "</div>"
      ],
      "text/plain": [
       "id       1111  2222  3333  4444  5555  6666  7777\n",
       "post_id                                          \n",
       "1.0       0.0   3.0   3.0   3.0   0.0   0.0   0.0\n",
       "2.0       0.0   3.0   0.0   0.0   3.0   3.0   0.0\n",
       "3.0       3.0   3.0   3.0   0.0   0.0   0.0   0.0\n",
       "4.0       0.0   0.0   2.0   0.0   2.0   0.0   0.0\n",
       "5.0       2.0   0.0   0.0   0.0   0.0   2.0   0.0"
      ]
     },
     "execution_count": 388,
     "metadata": {},
     "output_type": "execute_result"
    }
   ],
   "source": [
    "likes_matrix_T=likes_matrix.transpose()\n",
    "likes_matrix_T.head()"
   ]
  },
  {
   "cell_type": "code",
   "execution_count": 389,
   "metadata": {},
   "outputs": [
    {
     "data": {
      "text/html": [
       "<div>\n",
       "<style scoped>\n",
       "    .dataframe tbody tr th:only-of-type {\n",
       "        vertical-align: middle;\n",
       "    }\n",
       "\n",
       "    .dataframe tbody tr th {\n",
       "        vertical-align: top;\n",
       "    }\n",
       "\n",
       "    .dataframe thead th {\n",
       "        text-align: right;\n",
       "    }\n",
       "</style>\n",
       "<table border=\"1\" class=\"dataframe\">\n",
       "  <thead>\n",
       "    <tr style=\"text-align: right;\">\n",
       "      <th>post_id</th>\n",
       "      <th>1.0</th>\n",
       "      <th>2.0</th>\n",
       "      <th>3.0</th>\n",
       "      <th>4.0</th>\n",
       "      <th>5.0</th>\n",
       "      <th>6.0</th>\n",
       "    </tr>\n",
       "    <tr>\n",
       "      <th>post_id</th>\n",
       "      <th></th>\n",
       "      <th></th>\n",
       "      <th></th>\n",
       "      <th></th>\n",
       "      <th></th>\n",
       "      <th></th>\n",
       "    </tr>\n",
       "  </thead>\n",
       "  <tbody>\n",
       "    <tr>\n",
       "      <th>1.0</th>\n",
       "      <td>1.000000</td>\n",
       "      <td>0.333333</td>\n",
       "      <td>0.666667</td>\n",
       "      <td>0.408248</td>\n",
       "      <td>0.000000</td>\n",
       "      <td>0.816497</td>\n",
       "    </tr>\n",
       "    <tr>\n",
       "      <th>2.0</th>\n",
       "      <td>0.333333</td>\n",
       "      <td>1.000000</td>\n",
       "      <td>0.333333</td>\n",
       "      <td>0.408248</td>\n",
       "      <td>0.408248</td>\n",
       "      <td>0.408248</td>\n",
       "    </tr>\n",
       "    <tr>\n",
       "      <th>3.0</th>\n",
       "      <td>0.666667</td>\n",
       "      <td>0.333333</td>\n",
       "      <td>1.000000</td>\n",
       "      <td>0.408248</td>\n",
       "      <td>0.408248</td>\n",
       "      <td>0.408248</td>\n",
       "    </tr>\n",
       "  </tbody>\n",
       "</table>\n",
       "</div>"
      ],
      "text/plain": [
       "post_id       1.0       2.0       3.0       4.0       5.0       6.0\n",
       "post_id                                                            \n",
       "1.0      1.000000  0.333333  0.666667  0.408248  0.000000  0.816497\n",
       "2.0      0.333333  1.000000  0.333333  0.408248  0.408248  0.408248\n",
       "3.0      0.666667  0.333333  1.000000  0.408248  0.408248  0.408248"
      ]
     },
     "execution_count": 389,
     "metadata": {},
     "output_type": "execute_result"
    }
   ],
   "source": [
    "item_sim=cosine_similarity(likes_matrix_T,likes_matrix_T)\n",
    "\n",
    "item_sim_df=pd.DataFrame(data=item_sim,index=likes_matrix.columns,columns=likes_matrix.columns)\n",
    "\n",
    "item_sim_df.head(3)\n"
   ]
  },
  {
   "cell_type": "code",
   "execution_count": 390,
   "metadata": {},
   "outputs": [],
   "source": [
    "#예측 like -> 사용자가 좋아요한 게시글에 그와 유사한 게시글의 합\n",
    "def predict_likes(likes_arr,item_sim_arr):\n",
    "    print(np.array([np.abs(item_sim_arr).sum(axis=1)]))\n",
    "    likes_pred=likes_arr.dot(item_sim_arr)/np.array([np.abs(item_sim_arr).sum(axis=1)])\n",
    "    return likes_pred"
   ]
  },
  {
   "cell_type": "code",
   "execution_count": 391,
   "metadata": {},
   "outputs": [
    {
     "name": "stdout",
     "output_type": "stream",
     "text": [
      "[[3.22474487 2.89141154 3.22474487 2.22474487 1.81649658 2.63299316]]\n"
     ]
    },
    {
     "data": {
      "text/html": [
       "<div>\n",
       "<style scoped>\n",
       "    .dataframe tbody tr th:only-of-type {\n",
       "        vertical-align: middle;\n",
       "    }\n",
       "\n",
       "    .dataframe tbody tr th {\n",
       "        vertical-align: top;\n",
       "    }\n",
       "\n",
       "    .dataframe thead th {\n",
       "        text-align: right;\n",
       "    }\n",
       "</style>\n",
       "<table border=\"1\" class=\"dataframe\">\n",
       "  <thead>\n",
       "    <tr style=\"text-align: right;\">\n",
       "      <th>post_id</th>\n",
       "      <th>1.0</th>\n",
       "      <th>2.0</th>\n",
       "      <th>3.0</th>\n",
       "      <th>4.0</th>\n",
       "      <th>5.0</th>\n",
       "      <th>6.0</th>\n",
       "    </tr>\n",
       "    <tr>\n",
       "      <th>id</th>\n",
       "      <th></th>\n",
       "      <th></th>\n",
       "      <th></th>\n",
       "      <th></th>\n",
       "      <th></th>\n",
       "      <th></th>\n",
       "    </tr>\n",
       "  </thead>\n",
       "  <tbody>\n",
       "    <tr>\n",
       "      <th>1111</th>\n",
       "      <td>0.620204</td>\n",
       "      <td>0.628239</td>\n",
       "      <td>1.183503</td>\n",
       "      <td>0.550510</td>\n",
       "      <td>1.775255</td>\n",
       "      <td>0.465153</td>\n",
       "    </tr>\n",
       "    <tr>\n",
       "      <th>2222</th>\n",
       "      <td>2.367007</td>\n",
       "      <td>2.011646</td>\n",
       "      <td>2.113810</td>\n",
       "      <td>1.651531</td>\n",
       "      <td>1.348469</td>\n",
       "      <td>2.620204</td>\n",
       "    </tr>\n",
       "    <tr>\n",
       "      <th>3333</th>\n",
       "      <td>1.803708</td>\n",
       "      <td>0.974091</td>\n",
       "      <td>1.803708</td>\n",
       "      <td>2.000000</td>\n",
       "      <td>0.674235</td>\n",
       "      <td>1.395459</td>\n",
       "    </tr>\n",
       "  </tbody>\n",
       "</table>\n",
       "</div>"
      ],
      "text/plain": [
       "post_id       1.0       2.0       3.0       4.0       5.0       6.0\n",
       "id                                                                 \n",
       "1111     0.620204  0.628239  1.183503  0.550510  1.775255  0.465153\n",
       "2222     2.367007  2.011646  2.113810  1.651531  1.348469  2.620204\n",
       "3333     1.803708  0.974091  1.803708  2.000000  0.674235  1.395459"
      ]
     },
     "execution_count": 391,
     "metadata": {},
     "output_type": "execute_result"
    }
   ],
   "source": [
    "#결국 각각에 대한 점수들이 매겨짐 -> 유사도에 따른 예측 점수\n",
    "likes_pred=predict_likes(likes_matrix.values,item_sim_df.values)\n",
    "likes_pred_matrix=pd.DataFrame(data=likes_pred,index=likes_matrix.index,columns=likes_matrix.columns)\n",
    "likes_pred_matrix.head(3)"
   ]
  },
  {
   "cell_type": "code",
   "execution_count": 392,
   "metadata": {},
   "outputs": [
    {
     "name": "stdout",
     "output_type": "stream",
     "text": [
      "[1.18350342 1.77525513 2.36700684 2.01164604 2.11380957 2.6202041\n",
      " 1.80370752 1.80370752 2.         1.43670068 1.68989795 1.31994236\n",
      " 1.44948974 1.31994236 1.77525513]\n",
      "[3. 2. 3. 3. 3. 2. 3. 3. 2. 3. 2. 3. 2. 3. 2.]\n",
      "1.1532492742991252\n"
     ]
    }
   ],
   "source": [
    "#원본데이타의 점수와 예측 점수를 비교함\n",
    "#사용자가 조아요를 누른 게시글에 대해서만 예측성능평가 mse를 구함\n",
    "def get_mse(pred,actual):\n",
    "    pred=pred[actual.nonzero()].flatten()#0은 빼고 계산\n",
    "    actual=actual[actual.nonzero()].flatten()\n",
    "    print(pred)\n",
    "    print(actual)\n",
    "    return mean_squared_error(pred,actual)\n",
    "\n",
    "print(get_mse(likes_pred,likes_matrix.values))"
   ]
  },
  {
   "cell_type": "code",
   "execution_count": 393,
   "metadata": {},
   "outputs": [],
   "source": [
    "#모든 데이터에 대해서 예측 점수 계산\n",
    "def predict_likes_sim(likes_arr,item_sim_arr):\n",
    "    pred=np.zeros(likes_arr.shape)\n",
    "    \n",
    "    for col in range(likes_arr.shape[1]):\n",
    "        #유사도가 큰 순으로 모든 데이터 행렬의 index변환\n",
    "        top_item=[np.argsort(item_sim_arr[:,col])[::-1]]\n",
    "        #개인화된 예측 점수 계산\n",
    "        for row in range(likes_arr.shape[0]):\n",
    "            pred[row,col]=item_sim_arr[col,:][top_item].dot(likes_arr[row,:][top_item].T)\n",
    "            pred[row,col]/=np.sum(np.abs(item_sim_arr[col,:][top_item]))\n",
    "    print(pred)\n",
    "    return pred"
   ]
  },
  {
   "cell_type": "code",
   "execution_count": 394,
   "metadata": {},
   "outputs": [
    {
     "name": "stdout",
     "output_type": "stream",
     "text": [
      "[[0.6202041  0.62823868 1.18350342 0.55051026 1.77525513 0.46515308]\n",
      " [2.36700684 2.01164604 2.11380957 1.65153077 1.34846923 2.6202041 ]\n",
      " [1.80370752 0.97409052 1.80370752 2.         0.67423461 1.39545923]\n",
      " [1.43670068 0.62823868 0.87340137 0.55051026 0.         1.68989795]\n",
      " [0.56329932 1.31994236 0.56329932 1.44948974 0.67423461 0.46515308]\n",
      " [0.31010205 1.31994236 0.56329932 0.55051026 1.77525513 0.46515308]\n",
      " [0.         0.         0.         0.         0.         0.        ]]\n",
      "[1.18350342 1.77525513 2.36700684 2.01164604 2.11380957 2.6202041\n",
      " 1.80370752 1.80370752 2.         1.43670068 1.68989795 1.31994236\n",
      " 1.44948974 1.31994236 1.77525513]\n",
      "[3. 2. 3. 3. 3. 2. 3. 3. 2. 3. 2. 3. 2. 3. 2.]\n",
      "1.1532492742991252\n"
     ]
    },
    {
     "name": "stderr",
     "output_type": "stream",
     "text": [
      "<ipython-input-393-e42302de066c>:10: FutureWarning: Using a non-tuple sequence for multidimensional indexing is deprecated; use `arr[tuple(seq)]` instead of `arr[seq]`. In the future this will be interpreted as an array index, `arr[np.array(seq)]`, which will result either in an error or a different result.\n",
      "  pred[row,col]=item_sim_arr[col,:][top_item].dot(likes_arr[row,:][top_item].T)\n",
      "<ipython-input-393-e42302de066c>:11: FutureWarning: Using a non-tuple sequence for multidimensional indexing is deprecated; use `arr[tuple(seq)]` instead of `arr[seq]`. In the future this will be interpreted as an array index, `arr[np.array(seq)]`, which will result either in an error or a different result.\n",
      "  pred[row,col]/=np.sum(np.abs(item_sim_arr[col,:][top_item]))\n"
     ]
    }
   ],
   "source": [
    "likes_pred=predict_likes_sim(likes_matrix.values,item_sim_df.values)\n",
    "print(get_mse(likes_pred,likes_matrix.values))\n",
    "\n",
    "likes_pred_matrix=pd.DataFrame(data=likes_pred,index=likes_matrix.index,\n",
    "                              columns=likes_matrix.columns)"
   ]
  },
  {
   "cell_type": "code",
   "execution_count": 395,
   "metadata": {},
   "outputs": [
    {
     "data": {
      "text/plain": [
       "Series([], Name: 7777, dtype: float64)"
      ]
     },
     "execution_count": 395,
     "metadata": {},
     "output_type": "execute_result"
    }
   ],
   "source": [
    "user_like_id=likes_matrix.loc[user,:]\n",
    "user_like_id[user_like_id>0].sort_values(ascending=False)[:]"
   ]
  },
  {
   "cell_type": "code",
   "execution_count": 396,
   "metadata": {},
   "outputs": [],
   "source": [
    "#자신이 좋아요를 누른 것은 뺌\n",
    "def get_unlike_likes(likes_matrix,userId):\n",
    "    user_like=likes_matrix.loc[userId,:]\n",
    "    print(user_like)\n",
    "    already_like=user_like[user_like>0].index.tolist()\n",
    "    \n",
    "    like_list=likes_matrix.columns.tolist()\n",
    "    \n",
    "    unlike_list=[like for like in like_list if like not in already_like]\n",
    "    \n",
    "    return unlike_list"
   ]
  },
  {
   "cell_type": "code",
   "execution_count": 408,
   "metadata": {},
   "outputs": [
    {
     "name": "stdout",
     "output_type": "stream",
     "text": [
      "post_id\n",
      "1.0    0.0\n",
      "2.0    0.0\n",
      "3.0    0.0\n",
      "4.0    0.0\n",
      "5.0    0.0\n",
      "6.0    0.0\n",
      "Name: 7777, dtype: float64\n",
      "         col\n",
      "post_id     \n",
      "6.0      0.0\n",
      "5.0      0.0\n",
      "4.0      0.0\n",
      "3.0      0.0\n",
      "2.0      0.0\n",
      "1.0      0.0\n",
      "{\"7777\": [1, 2, 5, 6, 4]}\n"
     ]
    }
   ],
   "source": [
    "#좋아요를 누르지 않은 피드 중 예측률이 높은 순으로 정렬함\n",
    "def recomm_like_by_userid(pred_df,userId,unlike_list):\n",
    "    recomm_like=pred_df.loc[userId,unlike_list].sort_values(ascending=False)[:]\n",
    "    return recomm_like\n",
    "\n",
    "unlike_list=get_unlike_likes(likes_matrix,user)\n",
    "\n",
    "recomm_like=recomm_like_by_userid(likes_pred_matrix,user,unlike_list)\n",
    "\n",
    "r=pd.DataFrame(data=recomm_like.values,index=recomm_like.index,columns=['col'])\n",
    "print(r)\n",
    "try:\n",
    "    follow_post_id_list=np.array(follow_post_id['post_id']).tolist()\n",
    "except KeyError:\n",
    "    follow_post_id_list=[]\n",
    "\n",
    "recomm_like_list=np.array(recomm_like.index.values).astype('int').tolist()\n",
    "\n",
    "follow_post_id_list=set(follow_post_id_list)\n",
    "result=[x for x in recomm_like_list if x not in follow_post_id_list]\n",
    "if post_df[post_df['count']==0].id.values == user:\n",
    "    p=post_df[post_df['post_id'].isin(result)]\n",
    "    p=p.drop_duplicates([\"post_id\"])\n",
    "    result=np.array(p.sort_values(by=['count'],ascending=False)['post_id']).astype('int').tolist()\n",
    "    result={user:result}\n",
    "    result=json.dumps(result)\n",
    "    print(result)\n",
    "else :\n",
    "    result={user:result}\n",
    "    result=json.dumps(result)\n",
    "    print(result)"
   ]
  },
  {
   "cell_type": "code",
   "execution_count": null,
   "metadata": {},
   "outputs": [],
   "source": []
  }
 ],
 "metadata": {
  "kernelspec": {
   "display_name": "Python 3",
   "language": "python",
   "name": "python3"
  },
  "language_info": {
   "codemirror_mode": {
    "name": "ipython",
    "version": 3
   },
   "file_extension": ".py",
   "mimetype": "text/x-python",
   "name": "python",
   "nbconvert_exporter": "python",
   "pygments_lexer": "ipython3",
   "version": "3.8.3"
  }
 },
 "nbformat": 4,
 "nbformat_minor": 4
}
