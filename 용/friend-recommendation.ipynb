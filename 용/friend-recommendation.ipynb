{
 "cells": [
  {
   "cell_type": "code",
   "execution_count": 11,
   "metadata": {},
   "outputs": [
    {
     "data": {
      "text/html": [
       "<div>\n",
       "<style scoped>\n",
       "    .dataframe tbody tr th:only-of-type {\n",
       "        vertical-align: middle;\n",
       "    }\n",
       "\n",
       "    .dataframe tbody tr th {\n",
       "        vertical-align: top;\n",
       "    }\n",
       "\n",
       "    .dataframe thead th {\n",
       "        text-align: right;\n",
       "    }\n",
       "</style>\n",
       "<table border=\"1\" class=\"dataframe\">\n",
       "  <thead>\n",
       "    <tr style=\"text-align: right;\">\n",
       "      <th></th>\n",
       "      <th>id</th>\n",
       "      <th>follow</th>\n",
       "    </tr>\n",
       "  </thead>\n",
       "  <tbody>\n",
       "    <tr>\n",
       "      <th>0</th>\n",
       "      <td>1111</td>\n",
       "      <td>3333,5555</td>\n",
       "    </tr>\n",
       "  </tbody>\n",
       "</table>\n",
       "</div>"
      ],
      "text/plain": [
       "     id     follow\n",
       "0  1111  3333,5555"
      ]
     },
     "execution_count": 11,
     "metadata": {},
     "output_type": "execute_result"
    }
   ],
   "source": [
    "import pymysql\n",
    "import pandas as pd\n",
    "import numpy as np\n",
    "from ast import literal_eval\n",
    "from sklearn.feature_extraction.text import CountVectorizer\n",
    "from sklearn.metrics.pairwise import cosine_similarity\n",
    "import json\n",
    "\n",
    "user='1111'\n",
    "db=pymysql.connect(\n",
    "    user='root',\n",
    "    passwd='111111',\n",
    "    host='localhost',\n",
    "    db='instagram',\n",
    "    charset='utf8'\n",
    ")\n",
    "\n",
    "cursor=db.cursor(pymysql.cursors.DictCursor)\n",
    "\n",
    "sql=\"select id,group_concat(following_id) as follow from following group by id;\"\n",
    "cursor.execute(sql)\n",
    "result=cursor.fetchall() #DB에서 user_post 받아오기\n",
    "\n",
    "user_post_df=pd.DataFrame(result) #받아 온 값을 dataframe형식으로 변환 \n",
    "user_post_df.head(1)"
   ]
  },
  {
   "cell_type": "code",
   "execution_count": 12,
   "metadata": {},
   "outputs": [
    {
     "name": "stdout",
     "output_type": "stream",
     "text": [
      "<class 'pandas.core.frame.DataFrame'>\n",
      "RangeIndex: 7 entries, 0 to 6\n",
      "Data columns (total 2 columns):\n",
      " #   Column  Non-Null Count  Dtype \n",
      "---  ------  --------------  ----- \n",
      " 0   id      7 non-null      object\n",
      " 1   follow  7 non-null      object\n",
      "dtypes: object(2)\n",
      "memory usage: 240.0+ bytes\n"
     ]
    }
   ],
   "source": [
    "user_post_df.info()"
   ]
  },
  {
   "cell_type": "code",
   "execution_count": 13,
   "metadata": {},
   "outputs": [
    {
     "name": "stdout",
     "output_type": "stream",
     "text": [
      "0         3333,5555\n",
      "1         1111,6666\n",
      "2    1111,2222,4444\n",
      "3    2222,5555,6666\n",
      "4              3333\n",
      "5         2222,4444\n",
      "6              2222\n",
      "Name: follow, dtype: object\n"
     ]
    }
   ],
   "source": [
    "print(user_post_df['follow'])"
   ]
  },
  {
   "cell_type": "code",
   "execution_count": 14,
   "metadata": {},
   "outputs": [
    {
     "name": "stdout",
     "output_type": "stream",
     "text": [
      "0          [3333, 5555]\n",
      "1          [1111, 6666]\n",
      "2    [1111, 2222, 4444]\n",
      "3    [2222, 5555, 6666]\n",
      "4                [3333]\n",
      "5          [2222, 4444]\n",
      "6                [2222]\n",
      "Name: follow, dtype: object\n"
     ]
    }
   ],
   "source": [
    "user_post_df['follow']=user_post_df['follow'].str.split(',') # ','로 나눔\n",
    "print(user_post_df['follow'])"
   ]
  },
  {
   "cell_type": "code",
   "execution_count": 15,
   "metadata": {},
   "outputs": [
    {
     "data": {
      "text/html": [
       "<div>\n",
       "<style scoped>\n",
       "    .dataframe tbody tr th:only-of-type {\n",
       "        vertical-align: middle;\n",
       "    }\n",
       "\n",
       "    .dataframe tbody tr th {\n",
       "        vertical-align: top;\n",
       "    }\n",
       "\n",
       "    .dataframe thead th {\n",
       "        text-align: right;\n",
       "    }\n",
       "</style>\n",
       "<table border=\"1\" class=\"dataframe\">\n",
       "  <thead>\n",
       "    <tr style=\"text-align: right;\">\n",
       "      <th></th>\n",
       "      <th>follow</th>\n",
       "    </tr>\n",
       "  </thead>\n",
       "  <tbody>\n",
       "    <tr>\n",
       "      <th>0</th>\n",
       "      <td>[3333, 5555]</td>\n",
       "    </tr>\n",
       "  </tbody>\n",
       "</table>\n",
       "</div>"
      ],
      "text/plain": [
       "         follow\n",
       "0  [3333, 5555]"
      ]
     },
     "execution_count": 15,
     "metadata": {},
     "output_type": "execute_result"
    }
   ],
   "source": [
    "user_post_df[['follow']][:1]"
   ]
  },
  {
   "cell_type": "code",
   "execution_count": 16,
   "metadata": {},
   "outputs": [
    {
     "name": "stdout",
     "output_type": "stream",
     "text": [
      "0         3333 5555\n",
      "1         1111 6666\n",
      "2    1111 2222 4444\n",
      "3    2222 5555 6666\n",
      "4              3333\n",
      "5         2222 4444\n",
      "6              2222\n",
      "Name: follow_literal, dtype: object\n",
      "(7, 12)\n"
     ]
    }
   ],
   "source": [
    "# countvectorizer? 문서 집합에서 단어 토큰을 생성하고 각 단어의 수를 세어 BOW 인코딩한 벡터를 만듬\n",
    "# CountVectorizer를 적용하기 위해 공백문자로 word 단위가 구분되는 문자열로 변환.\n",
    "user_post_df['follow_literal']=user_post_df['follow'].apply(lambda x:(' ').join(x))\n",
    "print(user_post_df['follow_literal'])\n",
    "\n",
    "#follow 문자열을 Count 백터화(나눈 문자의 출현 빈도를 세어 벡터(집함)로 변환)\n",
    "count_vect=CountVectorizer(min_df=0,ngram_range=(1,2))#min_df = 최소 비교문자 , ngram_range = \n",
    "follow_mat=count_vect.fit_transform(user_post_df['follow_literal'])\n",
    "print(follow_mat.shape)"
   ]
  },
  {
   "cell_type": "code",
   "execution_count": 17,
   "metadata": {},
   "outputs": [
    {
     "name": "stdout",
     "output_type": "stream",
     "text": [
      "(7, 7)\n"
     ]
    }
   ],
   "source": [
    "#각 id에 따른 팔로우별 cosine유사도 추출(백터 사이의 각도만으로 유사도를 추출)\n",
    "follow_sim=cosine_similarity(follow_mat,follow_mat)\n",
    "print(follow_sim.shape)"
   ]
  },
  {
   "cell_type": "code",
   "execution_count": 18,
   "metadata": {},
   "outputs": [
    {
     "name": "stdout",
     "output_type": "stream",
     "text": [
      "[[0 4 3 6 5 2 1]\n",
      " [1 3 2 6 5 4 0]\n",
      " [2 5 6 1 3 4 0]\n",
      " [3 6 5 1 0 2 4]\n",
      " [4 0 6 5 3 2 1]\n",
      " [5 2 6 3 4 1 0]\n",
      " [6 5 3 2 4 1 0]]\n"
     ]
    }
   ],
   "source": [
    "follow_sim_sorted_ind=follow_sim.argsort()[:,::-1]#index로 정렬 (::-1은 전체를 역순으로 조회)\n",
    "print(follow_sim_sorted_ind)"
   ]
  },
  {
   "cell_type": "code",
   "execution_count": 19,
   "metadata": {},
   "outputs": [],
   "source": [
    "#유사도가 높은 id를 찾아 반환\n",
    "def find_sim_follow(df,sorted_ind,id):\n",
    "    user_id=df[df['id']==id]\n",
    "    id_index=user_id.index.values\n",
    "    \n",
    "    result_ind=[]\n",
    "    user_id_follow=user_id['follow']\n",
    "    for x in df['id']:\n",
    "        if x in user_id_follow[0]:\n",
    "            result_ind.append(df[df['id']==x].index.values)\n",
    "        else:\n",
    "            continue\n",
    "    \n",
    "    result_ind=np.array(result_ind).reshape(-1).tolist()\n",
    "    similar_indexes=sorted_ind[id_index,:]\n",
    "    similar_indexes=similar_indexes.reshape(-1)#해당 열(index)만 따로 저장\n",
    "    similar_indexes = similar_indexes[similar_indexes != id_index]\n",
    "    print(similar_indexes)\n",
    "    similar_df=df.iloc[similar_indexes]#해당 index에 대한 아이디를 저장\n",
    "    similar_df=similar_df.drop(result_ind)\n",
    "    count_list=[]\n",
    "    user_id_list=user_id['follow'].tolist()\n",
    "    similar_df_list=similar_df['follow'].tolist()\n",
    "    i=0\n",
    "    #함께아는 친구 계산\n",
    "    for lenght in range(len(similar_df_list)):#5번(추천된 5명의 count)\n",
    "        count=0\n",
    "        for x in similar_df_list[i]:#추천된 사람을 한 명씩 호출해 그 사람이 팔로우 한 사람을 찾음\n",
    "            for y in user_id_list[0]:#자신이 팔로우한 사람\n",
    "                if x in y:#자신이 팔로우한 사람과 추천된 사람의 팔로우를 비교\n",
    "                    count=count+1\n",
    "        i=i+1\n",
    "        count_list.append(count)\n",
    "                    \n",
    "    similar_df['together']=count_list\n",
    "    return similar_df"
   ]
  },
  {
   "cell_type": "code",
   "execution_count": 20,
   "metadata": {},
   "outputs": [
    {
     "name": "stdout",
     "output_type": "stream",
     "text": [
      "[4 3 6 5 2 1]\n",
      "     id  together\n",
      "3  4444         1\n",
      "6  7777         0\n",
      "5  6666         0\n",
      "1  2222         0\n",
      "{\"4444\": 1, \"7777\": 0, \"6666\": 0, \"2222\": 0}\n"
     ]
    }
   ],
   "source": [
    "similar_id=find_sim_follow(user_post_df,follow_sim_sorted_ind,user)\n",
    "similar_id[['id','together']]\n",
    "print(similar_id[['id','together']])\n",
    "similar_id=json.dumps(dict(np.array(similar_id[['id','together']]).tolist()))\n",
    "print(similar_id)"
   ]
  },
  {
   "cell_type": "code",
   "execution_count": null,
   "metadata": {},
   "outputs": [],
   "source": []
  }
 ],
 "metadata": {
  "kernelspec": {
   "display_name": "Python 3",
   "language": "python",
   "name": "python3"
  },
  "language_info": {
   "codemirror_mode": {
    "name": "ipython",
    "version": 3
   },
   "file_extension": ".py",
   "mimetype": "text/x-python",
   "name": "python",
   "nbconvert_exporter": "python",
   "pygments_lexer": "ipython3",
   "version": "3.8.3"
  }
 },
 "nbformat": 4,
 "nbformat_minor": 4
}
