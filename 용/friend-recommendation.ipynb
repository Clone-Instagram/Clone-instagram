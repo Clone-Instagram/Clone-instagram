{
 "cells": [
  {
   "cell_type": "code",
   "execution_count": 352,
   "metadata": {},
   "outputs": [
    {
     "data": {
      "text/html": [
       "<div>\n",
       "<style scoped>\n",
       "    .dataframe tbody tr th:only-of-type {\n",
       "        vertical-align: middle;\n",
       "    }\n",
       "\n",
       "    .dataframe tbody tr th {\n",
       "        vertical-align: top;\n",
       "    }\n",
       "\n",
       "    .dataframe thead th {\n",
       "        text-align: right;\n",
       "    }\n",
       "</style>\n",
       "<table border=\"1\" class=\"dataframe\">\n",
       "  <thead>\n",
       "    <tr style=\"text-align: right;\">\n",
       "      <th></th>\n",
       "      <th>id</th>\n",
       "      <th>post_index</th>\n",
       "      <th>follow</th>\n",
       "      <th>follower</th>\n",
       "      <th>bookmark_post</th>\n",
       "    </tr>\n",
       "  </thead>\n",
       "  <tbody>\n",
       "    <tr>\n",
       "      <th>0</th>\n",
       "      <td>0000</td>\n",
       "      <td>None</td>\n",
       "      <td>1111,2222,3333</td>\n",
       "      <td>1111,2222,3333,4444</td>\n",
       "      <td>None</td>\n",
       "    </tr>\n",
       "  </tbody>\n",
       "</table>\n",
       "</div>"
      ],
      "text/plain": [
       "     id post_index          follow             follower bookmark_post\n",
       "0  0000       None  1111,2222,3333  1111,2222,3333,4444          None"
      ]
     },
     "execution_count": 352,
     "metadata": {},
     "output_type": "execute_result"
    }
   ],
   "source": [
    "import pymysql\n",
    "import pandas as pd\n",
    "import numpy as np\n",
    "from ast import literal_eval\n",
    "db=pymysql.connect(\n",
    "    user='root',\n",
    "    passwd='111111',\n",
    "    host='localhost',\n",
    "    db='instagram',\n",
    "    charset='utf8'\n",
    ")\n",
    "\n",
    "cursor=db.cursor(pymysql.cursors.DictCursor)\n",
    "\n",
    "sql=\"select * from user_post;\"\n",
    "cursor.execute(sql)\n",
    "result=cursor.fetchall() #DB에서 user_post 받아오기\n",
    "\n",
    "user_post_df=pd.DataFrame(result) #받아 온 값을 dataframe형식으로 변환 \n",
    "user_post_df.head(1)"
   ]
  },
  {
   "cell_type": "code",
   "execution_count": 353,
   "metadata": {},
   "outputs": [
    {
     "name": "stdout",
     "output_type": "stream",
     "text": [
      "<class 'pandas.core.frame.DataFrame'>\n",
      "RangeIndex: 10 entries, 0 to 9\n",
      "Data columns (total 5 columns):\n",
      " #   Column         Non-Null Count  Dtype \n",
      "---  ------         --------------  ----- \n",
      " 0   id             10 non-null     object\n",
      " 1   post_index     0 non-null      object\n",
      " 2   follow         10 non-null     object\n",
      " 3   follower       10 non-null     object\n",
      " 4   bookmark_post  0 non-null      object\n",
      "dtypes: object(5)\n",
      "memory usage: 528.0+ bytes\n"
     ]
    }
   ],
   "source": [
    "user_post_df.info()"
   ]
  },
  {
   "cell_type": "code",
   "execution_count": 354,
   "metadata": {},
   "outputs": [
    {
     "name": "stdout",
     "output_type": "stream",
     "text": [
      "0                   1111,2222,3333\n",
      "1                        2222,5555\n",
      "2              0000,1111,6666,7777\n",
      "3              1111,4444,2222,6666\n",
      "4              3333,0000,7777,6666\n",
      "5    2222,4444,7777,9999,3333,8888\n",
      "6                   2222,4444,8888\n",
      "7                        5555,6666\n",
      "8                   4444,5555,7777\n",
      "9                             0000\n",
      "Name: follow, dtype: object\n"
     ]
    }
   ],
   "source": [
    "print(user_post_df['follow'])"
   ]
  },
  {
   "cell_type": "code",
   "execution_count": 355,
   "metadata": {},
   "outputs": [
    {
     "name": "stdout",
     "output_type": "stream",
     "text": [
      "0                      [1111, 2222, 3333]\n",
      "1                            [2222, 5555]\n",
      "2                [0000, 1111, 6666, 7777]\n",
      "3                [1111, 4444, 2222, 6666]\n",
      "4                [3333, 0000, 7777, 6666]\n",
      "5    [2222, 4444, 7777, 9999, 3333, 8888]\n",
      "6                      [2222, 4444, 8888]\n",
      "7                            [5555, 6666]\n",
      "8                      [4444, 5555, 7777]\n",
      "9                                  [0000]\n",
      "Name: follow, dtype: object\n"
     ]
    }
   ],
   "source": [
    "user_post_df['follow']=user_post_df['follow'].str.split(',') # ','로 나눔\n",
    "print(user_post_df['follow'])"
   ]
  },
  {
   "cell_type": "code",
   "execution_count": 356,
   "metadata": {},
   "outputs": [
    {
     "data": {
      "text/html": [
       "<div>\n",
       "<style scoped>\n",
       "    .dataframe tbody tr th:only-of-type {\n",
       "        vertical-align: middle;\n",
       "    }\n",
       "\n",
       "    .dataframe tbody tr th {\n",
       "        vertical-align: top;\n",
       "    }\n",
       "\n",
       "    .dataframe thead th {\n",
       "        text-align: right;\n",
       "    }\n",
       "</style>\n",
       "<table border=\"1\" class=\"dataframe\">\n",
       "  <thead>\n",
       "    <tr style=\"text-align: right;\">\n",
       "      <th></th>\n",
       "      <th>follow</th>\n",
       "    </tr>\n",
       "  </thead>\n",
       "  <tbody>\n",
       "    <tr>\n",
       "      <th>0</th>\n",
       "      <td>[1111, 2222, 3333]</td>\n",
       "    </tr>\n",
       "  </tbody>\n",
       "</table>\n",
       "</div>"
      ],
      "text/plain": [
       "               follow\n",
       "0  [1111, 2222, 3333]"
      ]
     },
     "execution_count": 356,
     "metadata": {},
     "output_type": "execute_result"
    }
   ],
   "source": [
    "user_post_df[['follow']][:1]"
   ]
  },
  {
   "cell_type": "code",
   "execution_count": 357,
   "metadata": {},
   "outputs": [
    {
     "name": "stdout",
     "output_type": "stream",
     "text": [
      "0                   1111 2222 3333\n",
      "1                        2222 5555\n",
      "2              0000 1111 6666 7777\n",
      "3              1111 4444 2222 6666\n",
      "4              3333 0000 7777 6666\n",
      "5    2222 4444 7777 9999 3333 8888\n",
      "6                   2222 4444 8888\n",
      "7                        5555 6666\n",
      "8                   4444 5555 7777\n",
      "9                             0000\n",
      "Name: follow_literal, dtype: object\n",
      "(10, 31)\n"
     ]
    }
   ],
   "source": [
    "from sklearn.feature_extraction.text import CountVectorizer\n",
    "\n",
    "# CountVectorizer를 적용하기 위해 공백문자로 word 단위가 구분되는 문자열로 변환.\n",
    "user_post_df['follow_literal']=user_post_df['follow'].apply(lambda x:(' ').join(x))\n",
    "print(user_post_df['follow_literal'])\n",
    "\n",
    "#follow 문자열을 Count 백터화(나눈 문자의 출현 빈도를 세어 벡터(집함)로 변환)\n",
    "count_vect=CountVectorizer(min_df=0,ngram_range=(1,2))\n",
    "follow_mat=count_vect.fit_transform(user_post_df['follow_literal'])\n",
    "print(follow_mat.shape)"
   ]
  },
  {
   "cell_type": "code",
   "execution_count": 358,
   "metadata": {},
   "outputs": [
    {
     "name": "stdout",
     "output_type": "stream",
     "text": [
      "(10, 10)\n"
     ]
    }
   ],
   "source": [
    "from sklearn.metrics.pairwise import cosine_similarity\n",
    "#각 id에 따른 팔로우별 cosine유사도 추출\n",
    "follow_sim=cosine_similarity(follow_mat,follow_mat)\n",
    "print(follow_sim.shape)"
   ]
  },
  {
   "cell_type": "code",
   "execution_count": 359,
   "metadata": {},
   "outputs": [
    {
     "name": "stdout",
     "output_type": "stream",
     "text": [
      "[[0 3 5 1 6 4 2 9 8 7]\n",
      " [1 7 8 6 0 3 5 9 4 2]\n",
      " [2 4 9 3 7 8 0 5 6 1]\n",
      " [3 6 0 2 5 7 1 8 4 9]\n",
      " [4 2 9 5 7 8 0 3 6 1]\n",
      " [5 6 8 0 4 3 1 2 9 7]\n",
      " [6 5 3 1 8 0 9 7 4 2]\n",
      " [7 1 8 4 3 2 9 6 5 0]\n",
      " [8 5 7 1 6 4 3 2 9 0]\n",
      " [9 4 2 8 7 6 5 3 1 0]]\n"
     ]
    }
   ],
   "source": [
    "follow_sim_sorted_ind=follow_sim.argsort()[:,::-1]#index로 정렬 (::-1은 전체를 역순으로 조회)\n",
    "print(follow_sim_sorted_ind)"
   ]
  },
  {
   "cell_type": "code",
   "execution_count": 360,
   "metadata": {},
   "outputs": [],
   "source": [
    "#유사도가 높은 id를 찾아 반환\n",
    "def find_sim_follow(df,sorted_ind,id,top_n=6):\n",
    "    user_id=df[df['id']==id]\n",
    "    \n",
    "    id_index=user_id.index.values\n",
    "    result_ind=[[]]\n",
    "    #선택된 아이디의 팔로우한 아이디를 찾아 아닌 것 리스트에 저장\n",
    "    for x in df['id']:\n",
    "        for y in user_id['follow']:\n",
    "            if x in y:\n",
    "                continue\n",
    "            else:\n",
    "                result_ind[0].append(x)\n",
    "        if len(result_ind)==5:\n",
    "                    break\n",
    "    result_ind=np.array(result_ind) \n",
    "    similar_indexes=sorted_ind[id_index,:(top_n)] #6개 저장\n",
    "    similar_indexes=np.delete(similar_indexes,[0],axis=1) #자기자신은 삭제\n",
    "    similar_indexes=similar_indexes.reshape(-1)#해당 열(index)만 따로 저장\n",
    "    \n",
    "    similar_df=df.iloc[similar_indexes]#해당 index에 대한 아이디를 저장\n",
    "    count_list=[]\n",
    "    user_id_list=user_id['follow'].tolist()\n",
    "    similar_df_list=similar_df['follow'].tolist()\n",
    "    print(similar_df_list)\n",
    "    i=0\n",
    "    #함께아는 친구 계산\n",
    "    for lenght in range(len(similar_df_list)):#5번(추천된 5명의 count)\n",
    "        count=0\n",
    "        for x in similar_df_list[i]:#추천된 사람을 한 명씩 호출해 그 사람이 팔로우 한 사람을 찾음\n",
    "            for y in user_id_list[0]:#자신이 팔로우한 사람\n",
    "                if x in y:#자신이 팔로우한 사람과 추천된 사람의 팔로우를 비교\n",
    "                    count=count+1\n",
    "        i=i+1\n",
    "        count_list.append(count)\n",
    "                    \n",
    "    similar_df['together']=count_list\n",
    "    return similar_df"
   ]
  },
  {
   "cell_type": "code",
   "execution_count": 361,
   "metadata": {},
   "outputs": [
    {
     "name": "stdout",
     "output_type": "stream",
     "text": [
      "[['3333', '0000', '7777', '6666'], ['0000', '1111', '6666', '7777'], ['4444', '5555', '7777'], ['5555', '6666'], ['2222', '4444', '8888']]\n"
     ]
    },
    {
     "name": "stderr",
     "output_type": "stream",
     "text": [
      "<ipython-input-360-5ce9b42d7a20>:37: SettingWithCopyWarning: \n",
      "A value is trying to be set on a copy of a slice from a DataFrame.\n",
      "Try using .loc[row_indexer,col_indexer] = value instead\n",
      "\n",
      "See the caveats in the documentation: https://pandas.pydata.org/pandas-docs/stable/user_guide/indexing.html#returning-a-view-versus-a-copy\n",
      "  similar_df['together']=count_list\n"
     ]
    },
    {
     "data": {
      "text/html": [
       "<div>\n",
       "<style scoped>\n",
       "    .dataframe tbody tr th:only-of-type {\n",
       "        vertical-align: middle;\n",
       "    }\n",
       "\n",
       "    .dataframe tbody tr th {\n",
       "        vertical-align: top;\n",
       "    }\n",
       "\n",
       "    .dataframe thead th {\n",
       "        text-align: right;\n",
       "    }\n",
       "</style>\n",
       "<table border=\"1\" class=\"dataframe\">\n",
       "  <thead>\n",
       "    <tr style=\"text-align: right;\">\n",
       "      <th></th>\n",
       "      <th>id</th>\n",
       "      <th>follow</th>\n",
       "      <th>together</th>\n",
       "    </tr>\n",
       "  </thead>\n",
       "  <tbody>\n",
       "    <tr>\n",
       "      <th>4</th>\n",
       "      <td>4444</td>\n",
       "      <td>[3333, 0000, 7777, 6666]</td>\n",
       "      <td>1</td>\n",
       "    </tr>\n",
       "    <tr>\n",
       "      <th>2</th>\n",
       "      <td>2222</td>\n",
       "      <td>[0000, 1111, 6666, 7777]</td>\n",
       "      <td>1</td>\n",
       "    </tr>\n",
       "    <tr>\n",
       "      <th>8</th>\n",
       "      <td>8888</td>\n",
       "      <td>[4444, 5555, 7777]</td>\n",
       "      <td>0</td>\n",
       "    </tr>\n",
       "    <tr>\n",
       "      <th>7</th>\n",
       "      <td>7777</td>\n",
       "      <td>[5555, 6666]</td>\n",
       "      <td>0</td>\n",
       "    </tr>\n",
       "    <tr>\n",
       "      <th>6</th>\n",
       "      <td>6666</td>\n",
       "      <td>[2222, 4444, 8888]</td>\n",
       "      <td>0</td>\n",
       "    </tr>\n",
       "  </tbody>\n",
       "</table>\n",
       "</div>"
      ],
      "text/plain": [
       "     id                    follow  together\n",
       "4  4444  [3333, 0000, 7777, 6666]         1\n",
       "2  2222  [0000, 1111, 6666, 7777]         1\n",
       "8  8888        [4444, 5555, 7777]         0\n",
       "7  7777              [5555, 6666]         0\n",
       "6  6666        [2222, 4444, 8888]         0"
      ]
     },
     "execution_count": 361,
     "metadata": {},
     "output_type": "execute_result"
    }
   ],
   "source": [
    "similar_id=find_sim_follow(user_post_df,follow_sim_sorted_ind,'9999')\n",
    "similar_id[['id','follow','together']]"
   ]
  },
  {
   "cell_type": "code",
   "execution_count": null,
   "metadata": {},
   "outputs": [],
   "source": []
  },
  {
   "cell_type": "code",
   "execution_count": 154,
   "metadata": {},
   "outputs": [
    {
     "data": {
      "text/html": [
       "<div>\n",
       "<style scoped>\n",
       "    .dataframe tbody tr th:only-of-type {\n",
       "        vertical-align: middle;\n",
       "    }\n",
       "\n",
       "    .dataframe tbody tr th {\n",
       "        vertical-align: top;\n",
       "    }\n",
       "\n",
       "    .dataframe thead th {\n",
       "        text-align: right;\n",
       "    }\n",
       "</style>\n",
       "<table border=\"1\" class=\"dataframe\">\n",
       "  <thead>\n",
       "    <tr style=\"text-align: right;\">\n",
       "      <th></th>\n",
       "      <th>id</th>\n",
       "      <th>follow</th>\n",
       "      <th>togeter</th>\n",
       "    </tr>\n",
       "  </thead>\n",
       "  <tbody>\n",
       "    <tr>\n",
       "      <th>7</th>\n",
       "      <td>7777</td>\n",
       "      <td>[5555, 6666]</td>\n",
       "      <td>1</td>\n",
       "    </tr>\n",
       "    <tr>\n",
       "      <th>8</th>\n",
       "      <td>8888</td>\n",
       "      <td>[4444, 5555, 7777]</td>\n",
       "      <td>1</td>\n",
       "    </tr>\n",
       "    <tr>\n",
       "      <th>6</th>\n",
       "      <td>6666</td>\n",
       "      <td>[2222, 4444, 8888]</td>\n",
       "      <td>1</td>\n",
       "    </tr>\n",
       "    <tr>\n",
       "      <th>0</th>\n",
       "      <td>0000</td>\n",
       "      <td>[1111, 2222, 3333]</td>\n",
       "      <td>1</td>\n",
       "    </tr>\n",
       "    <tr>\n",
       "      <th>3</th>\n",
       "      <td>3333</td>\n",
       "      <td>[1111, 4444, 2222, 6666]</td>\n",
       "      <td>1</td>\n",
       "    </tr>\n",
       "  </tbody>\n",
       "</table>\n",
       "</div>"
      ],
      "text/plain": [
       "     id                    follow  togeter\n",
       "7  7777              [5555, 6666]        1\n",
       "8  8888        [4444, 5555, 7777]        1\n",
       "6  6666        [2222, 4444, 8888]        1\n",
       "0  0000        [1111, 2222, 3333]        1\n",
       "3  3333  [1111, 4444, 2222, 6666]        1"
      ]
     },
     "execution_count": 154,
     "metadata": {},
     "output_type": "execute_result"
    }
   ],
   "source": []
  },
  {
   "cell_type": "code",
   "execution_count": null,
   "metadata": {},
   "outputs": [],
   "source": []
  }
 ],
 "metadata": {
  "kernelspec": {
   "display_name": "Python 3",
   "language": "python",
   "name": "python3"
  },
  "language_info": {
   "codemirror_mode": {
    "name": "ipython",
    "version": 3
   },
   "file_extension": ".py",
   "mimetype": "text/x-python",
   "name": "python",
   "nbconvert_exporter": "python",
   "pygments_lexer": "ipython3",
   "version": "3.8.3"
  }
 },
 "nbformat": 4,
 "nbformat_minor": 4
}
